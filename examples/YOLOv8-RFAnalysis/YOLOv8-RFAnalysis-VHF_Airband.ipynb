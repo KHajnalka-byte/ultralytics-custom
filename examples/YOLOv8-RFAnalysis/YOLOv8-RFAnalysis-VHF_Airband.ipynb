{
 "cells": [
  {
   "cell_type": "markdown",
   "metadata": {},
   "source": [
    "**YOLOv8 object detection**"
   ]
  },
  {
   "cell_type": "code",
   "execution_count": 11,
   "metadata": {
    "metadata": {}
   },
   "outputs": [
    {
     "name": "stdout",
     "output_type": "stream",
     "text": [
      "WARNING  no model scale passed. Assuming scale='n'.\n"
     ]
    }
   ],
   "source": [
    "model_path = \"C:\\\\Users\\\\korkah\\\\Documents\\\\GitHub\\\\ultralytics-custom\\\\ultralytics\\\\cfg\\\\models\\\\v8\\\\yolov8.yaml\"\n",
    "\n",
    "model = YOLO(model_path)"
   ]
  },
  {
   "cell_type": "code",
   "execution_count": null,
   "metadata": {},
   "outputs": [],
   "source": [
    "model_path = \"C:\\\\Users\\\\korkah\\\\Documents\\\\GitHub\\\\ultralytics-custom\\\\ultralytics\\\\cfg\\\\models\\\\v8\\\\yolov8.yaml\""
   ]
  },
  {
   "cell_type": "code",
   "execution_count": 13,
   "metadata": {
    "metadata": {}
   },
   "outputs": [],
   "source": [
    "from ultralytics import YOLO\n",
    "\n",
    "# Define the model scale you want to use\n",
    "scale = 'n'  # Options might include 'n', 's', 'm', 'l', etc. #n:nano\n",
    "\n",
    "# Path to your YOLOv8 configuration file\n",
    "config_path = f\"C:\\\\Users\\\\korkah\\\\Documents\\\\GitHub\\\\ultralytics-custom\\\\ultralytics\\\\cfg\\\\models\\\\v8\\\\yolov8{scale}.yaml\"\n",
    "\n",
    "# Instantiate the YOLO model with the YOLOv8 configuration file\n",
    "model = YOLO(config_path)\n",
    "\n",
    "# Now you can use the model for training, validation, inference, etc.\n",
    "# Example: model.train(data='coco128.yaml', epochs=100)\n"
   ]
  },
  {
   "cell_type": "code",
   "execution_count": 16,
   "metadata": {
    "metadata": {}
   },
   "outputs": [
    {
     "data": {
      "text/plain": [
       "'C:\\\\Users\\\\korkah\\\\Documents\\\\GitHub\\\\ultralytics-custom\\\\ultralytics\\\\cfg\\\\models\\\\v8\\\\yolov8n.yaml'"
      ]
     },
     "execution_count": 16,
     "metadata": {},
     "output_type": "execute_result"
    }
   ],
   "source": [
    "model.cfg"
   ]
  },
  {
   "cell_type": "code",
   "execution_count": null,
   "metadata": {},
   "outputs": [],
   "source": [
    "results = model.train(data=\"config.yaml\", epochs=25)"
   ]
  }
 ],
 "metadata": {
  "kernelspec": {
   "display_name": ".venv",
   "language": "python",
   "name": "python3"
  },
  "language_info": {
   "codemirror_mode": {
    "name": "ipython",
    "version": 3
   },
   "file_extension": ".py",
   "mimetype": "text/x-python",
   "name": "python",
   "nbconvert_exporter": "python",
   "pygments_lexer": "ipython3",
   "version": "3.10.0"
  }
 },
 "nbformat": 4,
 "nbformat_minor": 2
}
